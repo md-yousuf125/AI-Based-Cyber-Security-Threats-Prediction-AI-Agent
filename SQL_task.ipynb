{
  "nbformat": 4,
  "nbformat_minor": 0,
  "metadata": {
    "colab": {
      "provenance": []
    },
    "kernelspec": {
      "name": "python3",
      "display_name": "Python 3"
    },
    "language_info": {
      "name": "python"
    }
  },
  "cells": [
    {
      "cell_type": "code",
      "metadata": {
        "id": "278f984a"
      },
      "source": [
        "import sqlite3\n",
        "import pandas as pd\n",
        "\n",
        "# Create in-memory database\n",
        "conn = sqlite3.connect(':memory:')\n",
        "cursor = conn.cursor()"
      ],
      "execution_count": 6,
      "outputs": []
    },
    {
      "cell_type": "markdown",
      "metadata": {
        "id": "1d732ae2"
      },
      "source": [
        "prompt: \"Select all employees and order them by salary in descending order.\""
      ]
    },
    {
      "cell_type": "code",
      "metadata": {
        "id": "8811ce06"
      },
      "source": [
        "cursor.execute('''DROP TABLE IF EXISTS employees;''')\n",
        "cursor.execute('''\n",
        "    CREATE TABLE employees (\n",
        "        id INT PRIMARY KEY,\n",
        "        name VARCHAR(50),\n",
        "        department VARCHAR(50),\n",
        "        salary DECIMAL(10, 2),\n",
        "        join_date DATE\n",
        "    )\n",
        "''')\n",
        "\n",
        "cursor.execute('''\n",
        "    INSERT INTO employees (id, name, department, salary, join_date) VALUES\n",
        "    (1, 'Alice Smith', 'Sales', 60000.00, '2022-01-15'),\n",
        "    (2, 'Bob Johnson', 'IT', 75000.00, '2021-08-20'),\n",
        "    (3, 'Charlie Brown', 'Sales', 62000.00, '2022-03-10'),\n",
        "    (4, 'David Lee', 'Marketing', 68000.00, '2023-02-01'),\n",
        "    (5, 'Eve Adams', 'IT', 78000.00, '2021-11-05')\n",
        "''')\n",
        "\n",
        "conn.commit()"
      ],
      "execution_count": 11,
      "outputs": []
    },
    {
      "cell_type": "code",
      "metadata": {
        "colab": {
          "base_uri": "https://localhost:8080/"
        },
        "id": "03b7a07a",
        "outputId": "41d78819-f97b-44f4-f2ed-ec11896e4122"
      },
      "source": [
        "cursor.execute('SELECT * FROM employees ORDER BY salary DESC')\n",
        "rows = cursor.fetchall()\n",
        "\n",
        "for row in rows:\n",
        "    print(row)"
      ],
      "execution_count": 12,
      "outputs": [
        {
          "output_type": "stream",
          "name": "stdout",
          "text": [
            "(5, 'Eve Adams', 'IT', 78000, '2021-11-05')\n",
            "(2, 'Bob Johnson', 'IT', 75000, '2021-08-20')\n",
            "(4, 'David Lee', 'Marketing', 68000, '2023-02-01')\n",
            "(3, 'Charlie Brown', 'Sales', 62000, '2022-03-10')\n",
            "(1, 'Alice Smith', 'Sales', 60000, '2022-01-15')\n"
          ]
        }
      ]
    },
    {
      "cell_type": "markdown",
      "metadata": {
        "id": "7cb5423e"
      },
      "source": [
        "prompt: \"How can I select all employees from the 'IT' department?\""
      ]
    },
    {
      "cell_type": "code",
      "metadata": {
        "colab": {
          "base_uri": "https://localhost:8080/"
        },
        "id": "ccd24ed8",
        "outputId": "5782e5da-1199-4c2e-cb03-f91ac92e360f"
      },
      "source": [
        "cursor.execute(\"SELECT * FROM employees WHERE department = 'IT'\")\n",
        "rows = cursor.fetchall()\n",
        "\n",
        "for row in rows:\n",
        "    print(row)"
      ],
      "execution_count": 14,
      "outputs": [
        {
          "output_type": "stream",
          "name": "stdout",
          "text": [
            "(2, 'Bob Johnson', 'IT', 75000, '2021-08-20')\n",
            "(5, 'Eve Adams', 'IT', 78000, '2021-11-05')\n"
          ]
        }
      ]
    },
    {
      "cell_type": "markdown",
      "metadata": {
        "id": "e94495b9"
      },
      "source": [
        "prompt: \"Create a 'departments' table and insert some data, then perform an INNER JOIN with the 'employees' table.\""
      ]
    },
    {
      "cell_type": "code",
      "metadata": {
        "colab": {
          "base_uri": "https://localhost:8080/"
        },
        "id": "38f56b1b",
        "outputId": "32c18058-c625-4d62-d61a-703f2a9697ea"
      },
      "source": [
        "cursor.execute('''\n",
        "    CREATE TABLE departments (\n",
        "        dept_id INT PRIMARY KEY,\n",
        "        dept_name VARCHAR(50)\n",
        "    )\n",
        "''')\n",
        "\n",
        "cursor.execute('''\n",
        "    INSERT INTO departments (dept_id, dept_name) VALUES\n",
        "    (1, 'Sales'),\n",
        "    (2, 'IT'),\n",
        "    (3, 'Marketing')\n",
        "''')\n",
        "\n",
        "conn.commit()\n",
        "\n",
        "# Assuming 'department' in employees table corresponds to 'dept_name' in departments table\n",
        "# For a proper join, we might need a foreign key in the employees table referencing dept_id in departments.\n",
        "# However, for demonstration purposes with existing data, we can join on the department name.\n",
        "cursor.execute('''\n",
        "    SELECT employees.name, employees.department, departments.dept_name\n",
        "    FROM employees\n",
        "    INNER JOIN departments ON employees.department = departments.dept_name\n",
        "''')\n",
        "\n",
        "rows = cursor.fetchall()\n",
        "for row in rows:\n",
        "    print(row)"
      ],
      "execution_count": 24,
      "outputs": [
        {
          "output_type": "stream",
          "name": "stdout",
          "text": [
            "('Alice Smith', 'Sales', 'Sales')\n",
            "('Bob Johnson', 'IT', 'IT')\n",
            "('Charlie Brown', 'Sales', 'Sales')\n",
            "('Eve Adams', 'IT', 'IT')\n"
          ]
        }
      ]
    },
    {
      "cell_type": "markdown",
      "metadata": {
        "id": "ea5f2e84"
      },
      "source": [
        "prompt: \"Update the salary of 'Alice Smith' to 65000.00.\""
      ]
    },
    {
      "cell_type": "code",
      "metadata": {
        "colab": {
          "base_uri": "https://localhost:8080/"
        },
        "id": "656581f0",
        "outputId": "9b4b1f7c-5909-4c5a-e8a5-4ebeb68ecb98"
      },
      "source": [
        "cursor.execute(\"UPDATE employees SET salary = 65000.00 WHERE name = 'Alice Smith'\")\n",
        "conn.commit()\n",
        "cursor.execute(\"SELECT * FROM employees WHERE name = 'Alice Smith'\")\n",
        "print(cursor.fetchone())"
      ],
      "execution_count": 15,
      "outputs": [
        {
          "output_type": "stream",
          "name": "stdout",
          "text": [
            "(1, 'Alice Smith', 'Sales', 65000, '2022-01-15')\n"
          ]
        }
      ]
    },
    {
      "cell_type": "markdown",
      "metadata": {
        "id": "ca119ddf"
      },
      "source": [
        "prompt: \"Delete the employee with the ID of 4.\""
      ]
    },
    {
      "cell_type": "code",
      "metadata": {
        "colab": {
          "base_uri": "https://localhost:8080/"
        },
        "id": "11d14401",
        "outputId": "db04352b-8165-4f59-8d4d-cc752cbecf3b"
      },
      "source": [
        "cursor.execute(\"DELETE FROM employees WHERE id = 4\")\n",
        "conn.commit()\n",
        "cursor.execute(\"SELECT * FROM employees\")\n",
        "rows = cursor.fetchall()\n",
        "for row in rows:\n",
        "    print(row)"
      ],
      "execution_count": 16,
      "outputs": [
        {
          "output_type": "stream",
          "name": "stdout",
          "text": [
            "(1, 'Alice Smith', 'Sales', 65000, '2022-01-15')\n",
            "(2, 'Bob Johnson', 'IT', 75000, '2021-08-20')\n",
            "(3, 'Charlie Brown', 'Sales', 62000, '2022-03-10')\n",
            "(5, 'Eve Adams', 'IT', 78000, '2021-11-05')\n"
          ]
        }
      ]
    },
    {
      "cell_type": "markdown",
      "metadata": {
        "id": "690d6e4f"
      },
      "source": [
        "prompt: \"Calculate the average salary of all employees.\""
      ]
    },
    {
      "cell_type": "code",
      "metadata": {
        "colab": {
          "base_uri": "https://localhost:8080/"
        },
        "id": "247c5743",
        "outputId": "26c0124d-e501-4329-efaa-9d04998f1835"
      },
      "source": [
        "cursor.execute(\"SELECT AVG(salary) FROM employees\")\n",
        "print(cursor.fetchone())"
      ],
      "execution_count": 17,
      "outputs": [
        {
          "output_type": "stream",
          "name": "stdout",
          "text": [
            "(70000.0,)\n"
          ]
        }
      ]
    },
    {
      "cell_type": "markdown",
      "metadata": {
        "id": "328362ca"
      },
      "source": [
        "prompt: \"Find the highest salary in the 'IT' department.\""
      ]
    },
    {
      "cell_type": "code",
      "metadata": {
        "colab": {
          "base_uri": "https://localhost:8080/"
        },
        "id": "97c6f611",
        "outputId": "ba63dcdb-1392-4f29-b072-a64a14c4a68b"
      },
      "source": [
        "cursor.execute(\"SELECT MAX(salary) FROM employees WHERE department = 'IT'\")\n",
        "print(cursor.fetchone())"
      ],
      "execution_count": 18,
      "outputs": [
        {
          "output_type": "stream",
          "name": "stdout",
          "text": [
            "(78000,)\n"
          ]
        }
      ]
    },
    {
      "cell_type": "markdown",
      "metadata": {
        "id": "f47e8bc4"
      },
      "source": [
        "prompt: \"Count the number of employees in each department.\""
      ]
    },
    {
      "cell_type": "code",
      "metadata": {
        "colab": {
          "base_uri": "https://localhost:8080/"
        },
        "id": "81920593",
        "outputId": "79616adf-cb12-4fde-f770-63027a1a0eee"
      },
      "source": [
        "cursor.execute(\"SELECT department, COUNT(*) FROM employees GROUP BY department\")\n",
        "rows = cursor.fetchall()\n",
        "for row in rows:\n",
        "    print(row)"
      ],
      "execution_count": 19,
      "outputs": [
        {
          "output_type": "stream",
          "name": "stdout",
          "text": [
            "('IT', 2)\n",
            "('Sales', 2)\n"
          ]
        }
      ]
    },
    {
      "cell_type": "markdown",
      "metadata": {
        "id": "1e1b70a0"
      },
      "source": [
        "prompt: \"Select employees whose name starts with 'B'.\""
      ]
    },
    {
      "cell_type": "code",
      "metadata": {
        "colab": {
          "base_uri": "https://localhost:8080/"
        },
        "id": "dce4a6a2",
        "outputId": "985a5c11-ff72-414e-b9d9-6c5f7adad45c"
      },
      "source": [
        "cursor.execute(\"SELECT * FROM employees WHERE name LIKE 'B%'\")\n",
        "rows = cursor.fetchall()\n",
        "for row in rows:\n",
        "    print(row)"
      ],
      "execution_count": 20,
      "outputs": [
        {
          "output_type": "stream",
          "name": "stdout",
          "text": [
            "(2, 'Bob Johnson', 'IT', 75000, '2021-08-20')\n"
          ]
        }
      ]
    },
    {
      "cell_type": "markdown",
      "metadata": {
        "id": "908204ba"
      },
      "source": [
        "prompt: \"Select employees who joined in 2022.\""
      ]
    },
    {
      "cell_type": "code",
      "metadata": {
        "colab": {
          "base_uri": "https://localhost:8080/"
        },
        "id": "958899a0",
        "outputId": "540324fd-a70d-4920-b086-d5e0f7dc3523"
      },
      "source": [
        "cursor.execute(\"SELECT * FROM employees WHERE strftime('%Y', join_date) = '2022'\")\n",
        "rows = cursor.fetchall()\n",
        "for row in rows:\n",
        "    print(row)"
      ],
      "execution_count": 21,
      "outputs": [
        {
          "output_type": "stream",
          "name": "stdout",
          "text": [
            "(1, 'Alice Smith', 'Sales', 65000, '2022-01-15')\n",
            "(3, 'Charlie Brown', 'Sales', 62000, '2022-03-10')\n"
          ]
        }
      ]
    },
    {
      "cell_type": "markdown",
      "metadata": {
        "id": "9c4c7dbe"
      },
      "source": [
        "prompt: \"Select employees with a salary between 60000 and 70000.\""
      ]
    },
    {
      "cell_type": "code",
      "metadata": {
        "colab": {
          "base_uri": "https://localhost:8080/"
        },
        "id": "c6013db2",
        "outputId": "37462780-5992-4ba6-f78a-7e49dad9d420"
      },
      "source": [
        "cursor.execute(\"SELECT * FROM employees WHERE salary BETWEEN 60000 AND 70000\")\n",
        "rows = cursor.fetchall()\n",
        "for row in rows:\n",
        "    print(row)"
      ],
      "execution_count": 22,
      "outputs": [
        {
          "output_type": "stream",
          "name": "stdout",
          "text": [
            "(1, 'Alice Smith', 'Sales', 65000, '2022-01-15')\n",
            "(3, 'Charlie Brown', 'Sales', 62000, '2022-03-10')\n"
          ]
        }
      ]
    },
    {
      "cell_type": "markdown",
      "metadata": {
        "id": "794d26c3"
      },
      "source": [
        "prompt: \"Select employees from 'Sales' or 'Marketing' departments.\""
      ]
    },
    {
      "cell_type": "code",
      "metadata": {
        "colab": {
          "base_uri": "https://localhost:8080/"
        },
        "id": "6d3c4d0f",
        "outputId": "00e88b5c-6120-4fe8-c9c6-01ab8ae5ce0d"
      },
      "source": [
        "cursor.execute(\"SELECT * FROM employees WHERE department IN ('Sales', 'Marketing')\")\n",
        "rows = cursor.fetchall()\n",
        "for row in rows:\n",
        "    print(row)"
      ],
      "execution_count": 23,
      "outputs": [
        {
          "output_type": "stream",
          "name": "stdout",
          "text": [
            "(1, 'Alice Smith', 'Sales', 65000, '2022-01-15')\n",
            "(3, 'Charlie Brown', 'Sales', 62000, '2022-03-10')\n"
          ]
        }
      ]
    }
  ]
}