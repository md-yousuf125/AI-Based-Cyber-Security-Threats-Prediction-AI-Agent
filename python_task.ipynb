{
  "nbformat": 4,
  "nbformat_minor": 0,
  "metadata": {
    "colab": {
      "provenance": []
    },
    "kernelspec": {
      "name": "python3",
      "display_name": "Python 3"
    },
    "language_info": {
      "name": "python"
    }
  },
  "cells": [
    {
      "cell_type": "markdown",
      "source": [
        "prompt: Write a Python program that takes a sentence and: Counts vowels and consonants and reverses the sentence and converts it to camel case\n"
      ],
      "metadata": {
        "id": "IzlonOFSQr9e"
      }
    },
    {
      "cell_type": "code",
      "execution_count": null,
      "metadata": {
        "id": "DiReksfOQaUY"
      },
      "outputs": [],
      "source": []
    },
    {
      "cell_type": "markdown",
      "metadata": {
        "id": "360d2d4e"
      },
      "source": [
        "prompt: Write a Python program that takes a list of numbers and returns a new list containing only the even numbers."
      ]
    },
    {
      "cell_type": "code",
      "metadata": {
        "colab": {
          "base_uri": "https://localhost:8080/"
        },
        "id": "cfa435f1",
        "outputId": "764e3a34-65c2-4b09-e049-75dd00dd9fa6"
      },
      "source": [
        "# 1. Working with Lists: Write a Python program that takes a list of numbers and returns a new list containing only the even numbers.\n",
        "\n",
        "def get_even_numbers(numbers):\n",
        "  \"\"\"Returns a new list containing only the even numbers from the input list.\"\"\"\n",
        "  return [num for num in numbers if num % 2 == 0]\n",
        "\n",
        "# Example usage\n",
        "my_list = [1, 2, 3, 4, 5, 6, 7, 8, 9, 10]\n",
        "even_numbers = get_even_numbers(my_list)\n",
        "print(f\"Original list: {my_list}\")\n",
        "print(f\"Even numbers: {even_numbers}\")"
      ],
      "execution_count": 13,
      "outputs": [
        {
          "output_type": "stream",
          "name": "stdout",
          "text": [
            "Original list: [1, 2, 3, 4, 5, 6, 7, 8, 9, 10]\n",
            "Even numbers: [2, 4, 6, 8, 10]\n"
          ]
        }
      ]
    },
    {
      "cell_type": "markdown",
      "metadata": {
        "id": "92d7648f"
      },
      "source": [
        "prompt: Write a program that finds the largest and smallest elements in a list."
      ]
    },
    {
      "cell_type": "code",
      "metadata": {
        "colab": {
          "base_uri": "https://localhost:8080/"
        },
        "id": "60e8d64a",
        "outputId": "4e153022-8f62-4ec3-8685-8baaf0b2dae9"
      },
      "source": [
        "# 1. Working with Lists: Write a program that finds the largest and smallest elements in a list.\n",
        "\n",
        "def find_min_max(numbers):\n",
        "  \"\"\"Finds the largest and smallest elements in a list.\"\"\"\n",
        "  if not numbers:\n",
        "    return None, None\n",
        "  return min(numbers), max(numbers)\n",
        "\n",
        "# Example usage\n",
        "my_list = [5, 2, 8, 1, 9, 4]\n",
        "smallest, largest = find_min_max(my_list)\n",
        "print(f\"Original list: {my_list}\")\n",
        "print(f\"Smallest element: {smallest}\")\n",
        "print(f\"Largest element: {largest}\")"
      ],
      "execution_count": 14,
      "outputs": [
        {
          "output_type": "stream",
          "name": "stdout",
          "text": [
            "Original list: [5, 2, 8, 1, 9, 4]\n",
            "Smallest element: 1\n",
            "Largest element: 9\n"
          ]
        }
      ]
    },
    {
      "cell_type": "markdown",
      "metadata": {
        "id": "fd301b5f"
      },
      "source": [
        "prompt: Write a Python function that checks if a given string is a palindrome."
      ]
    },
    {
      "cell_type": "code",
      "metadata": {
        "colab": {
          "base_uri": "https://localhost:8080/"
        },
        "id": "d203888f",
        "outputId": "3e80480a-c9b5-43cb-c340-448d864c8c76"
      },
      "source": [
        "# 2. String Manipulation: Write a Python function that checks if a given string is a palindrome.\n",
        "\n",
        "def is_palindrome(text):\n",
        "  \"\"\"Checks if a given string is a palindrome.\"\"\"\n",
        "  text = text.lower().replace(\" \", \"\")\n",
        "  return text == text[::-1]\n",
        "\n",
        "# Example usage\n",
        "word1 = \"racecar\"\n",
        "word2 = \"hello\"\n",
        "print(f\"'{word1}' is a palindrome: {is_palindrome(word1)}\")\n",
        "print(f\"'{word2}' is a palindrome: {is_palindrome(word2)}\")"
      ],
      "execution_count": 15,
      "outputs": [
        {
          "output_type": "stream",
          "name": "stdout",
          "text": [
            "'racecar' is a palindrome: True\n",
            "'hello' is a palindrome: False\n"
          ]
        }
      ]
    },
    {
      "cell_type": "markdown",
      "metadata": {
        "id": "ace158be"
      },
      "source": [
        "prompt: Create a program that counts the occurrences of each word in a sentence."
      ]
    },
    {
      "cell_type": "code",
      "metadata": {
        "colab": {
          "base_uri": "https://localhost:8080/"
        },
        "id": "ac05045c",
        "outputId": "c20a7d04-cadb-416b-e6e9-887b04b46374"
      },
      "source": [
        "# 2. String Manipulation: Create a program that counts the occurrences of each word in a sentence.\n",
        "\n",
        "from collections import Counter\n",
        "\n",
        "def count_word_occurrences(sentence):\n",
        "  \"\"\"Counts the occurrences of each word in a sentence.\"\"\"\n",
        "  words = sentence.lower().split()\n",
        "  return Counter(words)\n",
        "\n",
        "# Example usage\n",
        "sentence = \"this is a sentence with several words this is a sentence\"\n",
        "word_counts = count_word_occurrences(sentence)\n",
        "print(f\"Sentence: '{sentence}'\")\n",
        "print(f\"Word counts: {word_counts}\")"
      ],
      "execution_count": 16,
      "outputs": [
        {
          "output_type": "stream",
          "name": "stdout",
          "text": [
            "Sentence: 'this is a sentence with several words this is a sentence'\n",
            "Word counts: Counter({'this': 2, 'is': 2, 'a': 2, 'sentence': 2, 'with': 1, 'several': 1, 'words': 1})\n"
          ]
        }
      ]
    },
    {
      "cell_type": "markdown",
      "metadata": {
        "id": "05615005"
      },
      "source": [
        "prompt: Write a Python program that takes a dictionary and prints all keys and values."
      ]
    },
    {
      "cell_type": "code",
      "metadata": {
        "colab": {
          "base_uri": "https://localhost:8080/"
        },
        "id": "ed50697b",
        "outputId": "12ae4e30-128e-435c-aab0-c1424f529574"
      },
      "source": [
        "# 3. Working with Dictionaries: Write a Python program that takes a dictionary and prints all keys and values.\n",
        "\n",
        "def print_dict_items(my_dict):\n",
        "  \"\"\"Prints all keys and values from a dictionary.\"\"\"\n",
        "  for key, value in my_dict.items():\n",
        "    print(f\"Key: {key}, Value: {value}\")\n",
        "\n",
        "# Example usage\n",
        "my_dict = {\"a\": 1, \"b\": 2, \"c\": 3}\n",
        "print_dict_items(my_dict)"
      ],
      "execution_count": 17,
      "outputs": [
        {
          "output_type": "stream",
          "name": "stdout",
          "text": [
            "Key: a, Value: 1\n",
            "Key: b, Value: 2\n",
            "Key: c, Value: 3\n"
          ]
        }
      ]
    },
    {
      "cell_type": "markdown",
      "metadata": {
        "id": "ec20c519"
      },
      "source": [
        "prompt: Create a program that merges two dictionaries."
      ]
    },
    {
      "cell_type": "code",
      "metadata": {
        "colab": {
          "base_uri": "https://localhost:8080/"
        },
        "id": "ee6f226f",
        "outputId": "34a9f23a-7e69-4f69-b395-338549e76158"
      },
      "source": [
        "# 3. Working with Dictionaries: Create a program that merges two dictionaries.\n",
        "\n",
        "def merge_two_dicts(dict1, dict2):\n",
        "  \"\"\"Merges two dictionaries.\"\"\"\n",
        "  merged_dict = dict1.copy()\n",
        "  merged_dict.update(dict2)\n",
        "  return merged_dict\n",
        "\n",
        "# Example usage\n",
        "dict1 = {\"a\": 1, \"b\": 2}\n",
        "dict2 = {\"c\": 3, \"d\": 4}\n",
        "merged_dict = merge_two_dicts(dict1, dict2)\n",
        "print(f\"Dictionary 1: {dict1}\")\n",
        "print(f\"Dictionary 2: {dict2}\")\n",
        "print(f\"Merged dictionary: {merged_dict}\")"
      ],
      "execution_count": 18,
      "outputs": [
        {
          "output_type": "stream",
          "name": "stdout",
          "text": [
            "Dictionary 1: {'a': 1, 'b': 2}\n",
            "Dictionary 2: {'c': 3, 'd': 4}\n",
            "Merged dictionary: {'a': 1, 'b': 2, 'c': 3, 'd': 4}\n"
          ]
        }
      ]
    },
    {
      "cell_type": "markdown",
      "metadata": {
        "id": "e24ac22a"
      },
      "source": [
        "prompt: Write a Python program that reads a text file and counts the number of lines."
      ]
    },
    {
      "cell_type": "code",
      "metadata": {
        "colab": {
          "base_uri": "https://localhost:8080/"
        },
        "id": "ebd9da5a",
        "outputId": "540e0076-8803-42fe-be91-16777dc914ea"
      },
      "source": [
        "# 4. File Handling: Write a Python program that reads a text file and counts the number of lines.\n",
        "\n",
        "# Create a dummy file for demonstration\n",
        "with open(\"sample.txt\", \"w\") as f:\n",
        "  f.write(\"This is line 1.\\n\")\n",
        "  f.write(\"This is line 2.\\n\")\n",
        "  f.write(\"This is line 3.\\n\")\n",
        "\n",
        "def count_lines_in_file(filename):\n",
        "  \"\"\"Reads a text file and counts the number of lines.\"\"\"\n",
        "  try:\n",
        "    with open(filename, \"r\") as f:\n",
        "      return sum(1 for line in f)\n",
        "  except FileNotFoundError:\n",
        "    return \"File not found.\"\n",
        "\n",
        "# Example usage\n",
        "filename = \"sample.txt\"\n",
        "line_count = count_lines_in_file(filename)\n",
        "print(f\"Number of lines in '{filename}': {line_count}\")"
      ],
      "execution_count": 19,
      "outputs": [
        {
          "output_type": "stream",
          "name": "stdout",
          "text": [
            "Number of lines in 'sample.txt': 3\n"
          ]
        }
      ]
    },
    {
      "cell_type": "markdown",
      "metadata": {
        "id": "a20002d8"
      },
      "source": [
        "prompt: Create a program that writes a list of strings to a file, with each string on a new line."
      ]
    },
    {
      "cell_type": "code",
      "metadata": {
        "colab": {
          "base_uri": "https://localhost:8080/"
        },
        "id": "a3c0e92f",
        "outputId": "8f64fab2-a2da-4f20-9786-d5d24e572656"
      },
      "source": [
        "# 4. File Handling: Create a program that writes a list of strings to a file, with each string on a new line.\n",
        "\n",
        "def write_list_to_file(filename, data):\n",
        "  \"\"\"Writes a list of strings to a file, with each string on a new line.\"\"\"\n",
        "  try:\n",
        "    with open(filename, \"w\") as f:\n",
        "      for item in data:\n",
        "        f.write(str(item) + \"\\n\")\n",
        "    return f\"Successfully wrote to '{filename}'\"\n",
        "  except IOError:\n",
        "    return f\"Error writing to '{filename}'\"\n",
        "\n",
        "# Example usage\n",
        "filename = \"output.txt\"\n",
        "my_list = [\"apple\", \"banana\", \"cherry\", \"date\"]\n",
        "result = write_list_to_file(filename, my_list)\n",
        "print(result)"
      ],
      "execution_count": 20,
      "outputs": [
        {
          "output_type": "stream",
          "name": "stdout",
          "text": [
            "Successfully wrote to 'output.txt'\n"
          ]
        }
      ]
    },
    {
      "cell_type": "markdown",
      "metadata": {
        "id": "6a0c8ff5"
      },
      "source": [
        "prompt: Load a CSV file into a pandas DataFrame and display the first 5 rows."
      ]
    },
    {
      "cell_type": "code",
      "metadata": {
        "colab": {
          "base_uri": "https://localhost:8080/",
          "height": 223
        },
        "id": "0004f4c7",
        "outputId": "2e617119-9a6a-4487-e539-48e60ea7e6f8"
      },
      "source": [
        "# 5. Basic Data Analysis (using pandas): Load a CSV file into a pandas DataFrame and display the first 5 rows.\n",
        "\n",
        "import pandas as pd\n",
        "\n",
        "# Create a dummy CSV file for demonstration\n",
        "data = {'col1': [1, 2, 3, 4, 5, 6], 'col2': ['A', 'B', 'C', 'D', 'E', 'F']}\n",
        "dummy_df = pd.DataFrame(data)\n",
        "dummy_df.to_csv(\"dummy.csv\", index=False)\n",
        "\n",
        "def load_csv_and_display_head(filename):\n",
        "  \"\"\"Loads a CSV file into a pandas DataFrame and displays the first 5 rows.\"\"\"\n",
        "  try:\n",
        "    df = pd.read_csv(filename)\n",
        "    print(f\"First 5 rows of '{filename}':\")\n",
        "    display(df.head())\n",
        "  except FileNotFoundError:\n",
        "    print(f\"File not found: {filename}\")\n",
        "\n",
        "# Example usage\n",
        "filename = \"dummy.csv\"\n",
        "load_csv_and_display_head(filename)"
      ],
      "execution_count": 21,
      "outputs": [
        {
          "output_type": "stream",
          "name": "stdout",
          "text": [
            "First 5 rows of 'dummy.csv':\n"
          ]
        },
        {
          "output_type": "display_data",
          "data": {
            "text/plain": [
              "   col1 col2\n",
              "0     1    A\n",
              "1     2    B\n",
              "2     3    C\n",
              "3     4    D\n",
              "4     5    E"
            ],
            "text/html": [
              "\n",
              "  <div id=\"df-f3c8dd0c-92f7-4981-85f0-69b94645d44e\" class=\"colab-df-container\">\n",
              "    <div>\n",
              "<style scoped>\n",
              "    .dataframe tbody tr th:only-of-type {\n",
              "        vertical-align: middle;\n",
              "    }\n",
              "\n",
              "    .dataframe tbody tr th {\n",
              "        vertical-align: top;\n",
              "    }\n",
              "\n",
              "    .dataframe thead th {\n",
              "        text-align: right;\n",
              "    }\n",
              "</style>\n",
              "<table border=\"1\" class=\"dataframe\">\n",
              "  <thead>\n",
              "    <tr style=\"text-align: right;\">\n",
              "      <th></th>\n",
              "      <th>col1</th>\n",
              "      <th>col2</th>\n",
              "    </tr>\n",
              "  </thead>\n",
              "  <tbody>\n",
              "    <tr>\n",
              "      <th>0</th>\n",
              "      <td>1</td>\n",
              "      <td>A</td>\n",
              "    </tr>\n",
              "    <tr>\n",
              "      <th>1</th>\n",
              "      <td>2</td>\n",
              "      <td>B</td>\n",
              "    </tr>\n",
              "    <tr>\n",
              "      <th>2</th>\n",
              "      <td>3</td>\n",
              "      <td>C</td>\n",
              "    </tr>\n",
              "    <tr>\n",
              "      <th>3</th>\n",
              "      <td>4</td>\n",
              "      <td>D</td>\n",
              "    </tr>\n",
              "    <tr>\n",
              "      <th>4</th>\n",
              "      <td>5</td>\n",
              "      <td>E</td>\n",
              "    </tr>\n",
              "  </tbody>\n",
              "</table>\n",
              "</div>\n",
              "    <div class=\"colab-df-buttons\">\n",
              "\n",
              "  <div class=\"colab-df-container\">\n",
              "    <button class=\"colab-df-convert\" onclick=\"convertToInteractive('df-f3c8dd0c-92f7-4981-85f0-69b94645d44e')\"\n",
              "            title=\"Convert this dataframe to an interactive table.\"\n",
              "            style=\"display:none;\">\n",
              "\n",
              "  <svg xmlns=\"http://www.w3.org/2000/svg\" height=\"24px\" viewBox=\"0 -960 960 960\">\n",
              "    <path d=\"M120-120v-720h720v720H120Zm60-500h600v-160H180v160Zm220 220h160v-160H400v160Zm0 220h160v-160H400v160ZM180-400h160v-160H180v160Zm440 0h160v-160H620v160ZM180-180h160v-160H180v160Zm440 0h160v-160H620v160Z\"/>\n",
              "  </svg>\n",
              "    </button>\n",
              "\n",
              "  <style>\n",
              "    .colab-df-container {\n",
              "      display:flex;\n",
              "      gap: 12px;\n",
              "    }\n",
              "\n",
              "    .colab-df-convert {\n",
              "      background-color: #E8F0FE;\n",
              "      border: none;\n",
              "      border-radius: 50%;\n",
              "      cursor: pointer;\n",
              "      display: none;\n",
              "      fill: #1967D2;\n",
              "      height: 32px;\n",
              "      padding: 0 0 0 0;\n",
              "      width: 32px;\n",
              "    }\n",
              "\n",
              "    .colab-df-convert:hover {\n",
              "      background-color: #E2EBFA;\n",
              "      box-shadow: 0px 1px 2px rgba(60, 64, 67, 0.3), 0px 1px 3px 1px rgba(60, 64, 67, 0.15);\n",
              "      fill: #174EA6;\n",
              "    }\n",
              "\n",
              "    .colab-df-buttons div {\n",
              "      margin-bottom: 4px;\n",
              "    }\n",
              "\n",
              "    [theme=dark] .colab-df-convert {\n",
              "      background-color: #3B4455;\n",
              "      fill: #D2E3FC;\n",
              "    }\n",
              "\n",
              "    [theme=dark] .colab-df-convert:hover {\n",
              "      background-color: #434B5C;\n",
              "      box-shadow: 0px 1px 3px 1px rgba(0, 0, 0, 0.15);\n",
              "      filter: drop-shadow(0px 1px 2px rgba(0, 0, 0, 0.3));\n",
              "      fill: #FFFFFF;\n",
              "    }\n",
              "  </style>\n",
              "\n",
              "    <script>\n",
              "      const buttonEl =\n",
              "        document.querySelector('#df-f3c8dd0c-92f7-4981-85f0-69b94645d44e button.colab-df-convert');\n",
              "      buttonEl.style.display =\n",
              "        google.colab.kernel.accessAllowed ? 'block' : 'none';\n",
              "\n",
              "      async function convertToInteractive(key) {\n",
              "        const element = document.querySelector('#df-f3c8dd0c-92f7-4981-85f0-69b94645d44e');\n",
              "        const dataTable =\n",
              "          await google.colab.kernel.invokeFunction('convertToInteractive',\n",
              "                                                    [key], {});\n",
              "        if (!dataTable) return;\n",
              "\n",
              "        const docLinkHtml = 'Like what you see? Visit the ' +\n",
              "          '<a target=\"_blank\" href=https://colab.research.google.com/notebooks/data_table.ipynb>data table notebook</a>'\n",
              "          + ' to learn more about interactive tables.';\n",
              "        element.innerHTML = '';\n",
              "        dataTable['output_type'] = 'display_data';\n",
              "        await google.colab.output.renderOutput(dataTable, element);\n",
              "        const docLink = document.createElement('div');\n",
              "        docLink.innerHTML = docLinkHtml;\n",
              "        element.appendChild(docLink);\n",
              "      }\n",
              "    </script>\n",
              "  </div>\n",
              "\n",
              "\n",
              "    <div id=\"df-c5c10ccf-bf19-4192-b558-f4e27cf76142\">\n",
              "      <button class=\"colab-df-quickchart\" onclick=\"quickchart('df-c5c10ccf-bf19-4192-b558-f4e27cf76142')\"\n",
              "                title=\"Suggest charts\"\n",
              "                style=\"display:none;\">\n",
              "\n",
              "<svg xmlns=\"http://www.w3.org/2000/svg\" height=\"24px\"viewBox=\"0 0 24 24\"\n",
              "     width=\"24px\">\n",
              "    <g>\n",
              "        <path d=\"M19 3H5c-1.1 0-2 .9-2 2v14c0 1.1.9 2 2 2h14c1.1 0 2-.9 2-2V5c0-1.1-.9-2-2-2zM9 17H7v-7h2v7zm4 0h-2V7h2v10zm4 0h-2v-4h2v4z\"/>\n",
              "    </g>\n",
              "</svg>\n",
              "      </button>\n",
              "\n",
              "<style>\n",
              "  .colab-df-quickchart {\n",
              "      --bg-color: #E8F0FE;\n",
              "      --fill-color: #1967D2;\n",
              "      --hover-bg-color: #E2EBFA;\n",
              "      --hover-fill-color: #174EA6;\n",
              "      --disabled-fill-color: #AAA;\n",
              "      --disabled-bg-color: #DDD;\n",
              "  }\n",
              "\n",
              "  [theme=dark] .colab-df-quickchart {\n",
              "      --bg-color: #3B4455;\n",
              "      --fill-color: #D2E3FC;\n",
              "      --hover-bg-color: #434B5C;\n",
              "      --hover-fill-color: #FFFFFF;\n",
              "      --disabled-bg-color: #3B4455;\n",
              "      --disabled-fill-color: #666;\n",
              "  }\n",
              "\n",
              "  .colab-df-quickchart {\n",
              "    background-color: var(--bg-color);\n",
              "    border: none;\n",
              "    border-radius: 50%;\n",
              "    cursor: pointer;\n",
              "    display: none;\n",
              "    fill: var(--fill-color);\n",
              "    height: 32px;\n",
              "    padding: 0;\n",
              "    width: 32px;\n",
              "  }\n",
              "\n",
              "  .colab-df-quickchart:hover {\n",
              "    background-color: var(--hover-bg-color);\n",
              "    box-shadow: 0 1px 2px rgba(60, 64, 67, 0.3), 0 1px 3px 1px rgba(60, 64, 67, 0.15);\n",
              "    fill: var(--button-hover-fill-color);\n",
              "  }\n",
              "\n",
              "  .colab-df-quickchart-complete:disabled,\n",
              "  .colab-df-quickchart-complete:disabled:hover {\n",
              "    background-color: var(--disabled-bg-color);\n",
              "    fill: var(--disabled-fill-color);\n",
              "    box-shadow: none;\n",
              "  }\n",
              "\n",
              "  .colab-df-spinner {\n",
              "    border: 2px solid var(--fill-color);\n",
              "    border-color: transparent;\n",
              "    border-bottom-color: var(--fill-color);\n",
              "    animation:\n",
              "      spin 1s steps(1) infinite;\n",
              "  }\n",
              "\n",
              "  @keyframes spin {\n",
              "    0% {\n",
              "      border-color: transparent;\n",
              "      border-bottom-color: var(--fill-color);\n",
              "      border-left-color: var(--fill-color);\n",
              "    }\n",
              "    20% {\n",
              "      border-color: transparent;\n",
              "      border-left-color: var(--fill-color);\n",
              "      border-top-color: var(--fill-color);\n",
              "    }\n",
              "    30% {\n",
              "      border-color: transparent;\n",
              "      border-left-color: var(--fill-color);\n",
              "      border-top-color: var(--fill-color);\n",
              "      border-right-color: var(--fill-color);\n",
              "    }\n",
              "    40% {\n",
              "      border-color: transparent;\n",
              "      border-right-color: var(--fill-color);\n",
              "      border-top-color: var(--fill-color);\n",
              "    }\n",
              "    60% {\n",
              "      border-color: transparent;\n",
              "      border-right-color: var(--fill-color);\n",
              "    }\n",
              "    80% {\n",
              "      border-color: transparent;\n",
              "      border-right-color: var(--fill-color);\n",
              "      border-bottom-color: var(--fill-color);\n",
              "    }\n",
              "    90% {\n",
              "      border-color: transparent;\n",
              "      border-bottom-color: var(--fill-color);\n",
              "    }\n",
              "  }\n",
              "</style>\n",
              "\n",
              "      <script>\n",
              "        async function quickchart(key) {\n",
              "          const quickchartButtonEl =\n",
              "            document.querySelector('#' + key + ' button');\n",
              "          quickchartButtonEl.disabled = true;  // To prevent multiple clicks.\n",
              "          quickchartButtonEl.classList.add('colab-df-spinner');\n",
              "          try {\n",
              "            const charts = await google.colab.kernel.invokeFunction(\n",
              "                'suggestCharts', [key], {});\n",
              "          } catch (error) {\n",
              "            console.error('Error during call to suggestCharts:', error);\n",
              "          }\n",
              "          quickchartButtonEl.classList.remove('colab-df-spinner');\n",
              "          quickchartButtonEl.classList.add('colab-df-quickchart-complete');\n",
              "        }\n",
              "        (() => {\n",
              "          let quickchartButtonEl =\n",
              "            document.querySelector('#df-c5c10ccf-bf19-4192-b558-f4e27cf76142 button');\n",
              "          quickchartButtonEl.style.display =\n",
              "            google.colab.kernel.accessAllowed ? 'block' : 'none';\n",
              "        })();\n",
              "      </script>\n",
              "    </div>\n",
              "\n",
              "    </div>\n",
              "  </div>\n"
            ],
            "application/vnd.google.colaboratory.intrinsic+json": {
              "type": "dataframe",
              "summary": "{\n  \"name\": \"load_csv_and_display_head(filename)\",\n  \"rows\": 5,\n  \"fields\": [\n    {\n      \"column\": \"col1\",\n      \"properties\": {\n        \"dtype\": \"number\",\n        \"std\": 1,\n        \"min\": 1,\n        \"max\": 5,\n        \"num_unique_values\": 5,\n        \"samples\": [\n          2,\n          5,\n          3\n        ],\n        \"semantic_type\": \"\",\n        \"description\": \"\"\n      }\n    },\n    {\n      \"column\": \"col2\",\n      \"properties\": {\n        \"dtype\": \"string\",\n        \"num_unique_values\": 5,\n        \"samples\": [\n          \"B\",\n          \"E\",\n          \"C\"\n        ],\n        \"semantic_type\": \"\",\n        \"description\": \"\"\n      }\n    }\n  ]\n}"
            }
          },
          "metadata": {}
        }
      ]
    },
    {
      "cell_type": "markdown",
      "metadata": {
        "id": "423d6c9c"
      },
      "source": [
        "prompt: Calculate the mean, median, and mode of a specific column in a DataFrame."
      ]
    },
    {
      "cell_type": "code",
      "metadata": {
        "colab": {
          "base_uri": "https://localhost:8080/"
        },
        "id": "bdfa94c4",
        "outputId": "fb3eba56-3967-4578-c777-744f32cc93b2"
      },
      "source": [
        "# 5. Basic Data Analysis (using pandas): Calculate the mean, median, and mode of a specific column in a DataFrame.\n",
        "\n",
        "import pandas as pd\n",
        "\n",
        "# Create a dummy DataFrame for demonstration\n",
        "data = {'col1': [1, 2, 2, 3, 4, 5, 5, 5, 6]}\n",
        "dummy_df = pd.DataFrame(data)\n",
        "\n",
        "def analyze_column(df, column_name):\n",
        "  \"\"\"Calculates the mean, median, and mode of a specific column in a DataFrame.\"\"\"\n",
        "  if column_name not in df.columns:\n",
        "    print(f\"Column '{column_name}' not found in DataFrame.\")\n",
        "    return\n",
        "\n",
        "  mean_val = df[column_name].mean()\n",
        "  median_val = df[column_name].median()\n",
        "  mode_val = df[column_name].mode().tolist() # mode() can return multiple values\n",
        "\n",
        "  print(f\"Analysis for column '{column_name}':\")\n",
        "  print(f\"Mean: {mean_val}\")\n",
        "  print(f\"Median: {median_val}\")\n",
        "  print(f\"Mode: {mode_val}\")\n",
        "\n",
        "# Example usage\n",
        "column_to_analyze = 'col1'\n",
        "analyze_column(dummy_df, column_to_analyze)"
      ],
      "execution_count": 22,
      "outputs": [
        {
          "output_type": "stream",
          "name": "stdout",
          "text": [
            "Analysis for column 'col1':\n",
            "Mean: 3.6666666666666665\n",
            "Median: 4.0\n",
            "Mode: [5]\n"
          ]
        }
      ]
    }
  ]
}